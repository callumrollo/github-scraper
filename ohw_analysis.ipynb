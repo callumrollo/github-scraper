{
 "cells": [
  {
   "cell_type": "code",
   "execution_count": 1,
   "metadata": {},
   "outputs": [],
   "source": [
    "import numpy as np\n",
    "import pandas as pd\n",
    "import matplotlib.pyplot as plt"
   ]
  },
  {
   "cell_type": "code",
   "execution_count": 2,
   "metadata": {},
   "outputs": [
    {
     "data": {
      "text/html": [
       "<div>\n",
       "<style scoped>\n",
       "    .dataframe tbody tr th:only-of-type {\n",
       "        vertical-align: middle;\n",
       "    }\n",
       "\n",
       "    .dataframe tbody tr th {\n",
       "        vertical-align: top;\n",
       "    }\n",
       "\n",
       "    .dataframe thead th {\n",
       "        text-align: right;\n",
       "    }\n",
       "</style>\n",
       "<table border=\"1\" class=\"dataframe\">\n",
       "  <thead>\n",
       "    <tr style=\"text-align: right;\">\n",
       "      <th></th>\n",
       "      <th>author</th>\n",
       "      <th>message</th>\n",
       "      <th>ohw20_repo</th>\n",
       "    </tr>\n",
       "    <tr>\n",
       "      <th>datetime</th>\n",
       "      <th></th>\n",
       "      <th></th>\n",
       "      <th></th>\n",
       "    </tr>\n",
       "  </thead>\n",
       "  <tbody>\n",
       "    <tr>\n",
       "      <th>2020-08-20 15:08:09+00:00</th>\n",
       "      <td>participant-20</td>\n",
       "      <td>Merge pull request #1 from cbirdferrer/patch-1...</td>\n",
       "      <td>False</td>\n",
       "    </tr>\n",
       "    <tr>\n",
       "      <th>2020-08-17 16:24:17+00:00</th>\n",
       "      <td>participant-20</td>\n",
       "      <td>deleting old presentation_figs file</td>\n",
       "      <td>True</td>\n",
       "    </tr>\n",
       "    <tr>\n",
       "      <th>2020-08-14 20:00:38+00:00</th>\n",
       "      <td>participant-20</td>\n",
       "      <td>adding improvements to interpolate notebook to...</td>\n",
       "      <td>True</td>\n",
       "    </tr>\n",
       "    <tr>\n",
       "      <th>2020-08-14 20:00:38+00:00</th>\n",
       "      <td>participant-20</td>\n",
       "      <td>merging changes</td>\n",
       "      <td>True</td>\n",
       "    </tr>\n",
       "    <tr>\n",
       "      <th>2020-08-14 20:00:38+00:00</th>\n",
       "      <td>participant-20</td>\n",
       "      <td>merging interpolate notebook</td>\n",
       "      <td>True</td>\n",
       "    </tr>\n",
       "    <tr>\n",
       "      <th>...</th>\n",
       "      <td>...</td>\n",
       "      <td>...</td>\n",
       "      <td>...</td>\n",
       "    </tr>\n",
       "    <tr>\n",
       "      <th>2020-08-07 15:58:21+00:00</th>\n",
       "      <td>participant-32</td>\n",
       "      <td>change read.md</td>\n",
       "      <td>False</td>\n",
       "    </tr>\n",
       "    <tr>\n",
       "      <th>2020-08-06 22:26:24+00:00</th>\n",
       "      <td>participant-32</td>\n",
       "      <td>change new2.md and create new.md</td>\n",
       "      <td>False</td>\n",
       "    </tr>\n",
       "    <tr>\n",
       "      <th>2020-08-06 22:25:02+00:00</th>\n",
       "      <td>participant-32</td>\n",
       "      <td>changes in new.md and new2.md</td>\n",
       "      <td>False</td>\n",
       "    </tr>\n",
       "    <tr>\n",
       "      <th>2020-08-06 22:20:59+00:00</th>\n",
       "      <td>participant-32</td>\n",
       "      <td>edit readme and new, create new2.md</td>\n",
       "      <td>False</td>\n",
       "    </tr>\n",
       "    <tr>\n",
       "      <th>2020-08-06 22:13:07+00:00</th>\n",
       "      <td>participant-32</td>\n",
       "      <td>edit readme and add new.md</td>\n",
       "      <td>False</td>\n",
       "    </tr>\n",
       "  </tbody>\n",
       "</table>\n",
       "<p>1536 rows × 3 columns</p>\n",
       "</div>"
      ],
      "text/plain": [
       "                                   author  \\\n",
       "datetime                                    \n",
       "2020-08-20 15:08:09+00:00  participant-20   \n",
       "2020-08-17 16:24:17+00:00  participant-20   \n",
       "2020-08-14 20:00:38+00:00  participant-20   \n",
       "2020-08-14 20:00:38+00:00  participant-20   \n",
       "2020-08-14 20:00:38+00:00  participant-20   \n",
       "...                                   ...   \n",
       "2020-08-07 15:58:21+00:00  participant-32   \n",
       "2020-08-06 22:26:24+00:00  participant-32   \n",
       "2020-08-06 22:25:02+00:00  participant-32   \n",
       "2020-08-06 22:20:59+00:00  participant-32   \n",
       "2020-08-06 22:13:07+00:00  participant-32   \n",
       "\n",
       "                                                                     message  \\\n",
       "datetime                                                                       \n",
       "2020-08-20 15:08:09+00:00  Merge pull request #1 from cbirdferrer/patch-1...   \n",
       "2020-08-17 16:24:17+00:00                deleting old presentation_figs file   \n",
       "2020-08-14 20:00:38+00:00  adding improvements to interpolate notebook to...   \n",
       "2020-08-14 20:00:38+00:00                                    merging changes   \n",
       "2020-08-14 20:00:38+00:00                       merging interpolate notebook   \n",
       "...                                                                      ...   \n",
       "2020-08-07 15:58:21+00:00                                     change read.md   \n",
       "2020-08-06 22:26:24+00:00                   change new2.md and create new.md   \n",
       "2020-08-06 22:25:02+00:00                      changes in new.md and new2.md   \n",
       "2020-08-06 22:20:59+00:00                edit readme and new, create new2.md   \n",
       "2020-08-06 22:13:07+00:00                         edit readme and add new.md   \n",
       "\n",
       "                           ohw20_repo  \n",
       "datetime                               \n",
       "2020-08-20 15:08:09+00:00       False  \n",
       "2020-08-17 16:24:17+00:00        True  \n",
       "2020-08-14 20:00:38+00:00        True  \n",
       "2020-08-14 20:00:38+00:00        True  \n",
       "2020-08-14 20:00:38+00:00        True  \n",
       "...                               ...  \n",
       "2020-08-07 15:58:21+00:00       False  \n",
       "2020-08-06 22:26:24+00:00       False  \n",
       "2020-08-06 22:25:02+00:00       False  \n",
       "2020-08-06 22:20:59+00:00       False  \n",
       "2020-08-06 22:13:07+00:00       False  \n",
       "\n",
       "[1536 rows x 3 columns]"
      ]
     },
     "execution_count": 2,
     "metadata": {},
     "output_type": "execute_result"
    }
   ],
   "source": [
    "df = pd.read_csv('ohw_anonymised.csv', index_col='datetime', parse_dates=True)\n",
    "df_ohw20 = df[df.ohw20_repo]\n",
    "df"
   ]
  },
  {
   "cell_type": "markdown",
   "metadata": {},
   "source": [
    "### Commits in time"
   ]
  },
  {
   "cell_type": "code",
   "execution_count": 3,
   "metadata": {},
   "outputs": [
    {
     "data": {
      "text/plain": [
       "(array([118., 187.,  75., 112., 103., 119., 183., 161., 372., 106.]),\n",
       " array([18408.07040509, 18417.25943403, 18426.44846296, 18435.6374919 ,\n",
       "        18444.82652083, 18454.01554977, 18463.2045787 , 18472.39360764,\n",
       "        18481.58263657, 18490.77166551, 18499.96069444]),\n",
       " <BarContainer object of 10 artists>)"
      ]
     },
     "execution_count": 3,
     "metadata": {},
     "output_type": "execute_result"
    },
    {
     "data": {
      "image/png": "[encoded data removed]",
      "text/plain": [
       "<Figure size 1080x720 with 1 Axes>"
      ]
     },
     "metadata": {
      "needs_background": "light"
     },
     "output_type": "display_data"
    }
   ],
   "source": [
    "fig, ax = plt.subplots(figsize=(15,10))\n",
    "ax.hist(df.index)"
   ]
  },
  {
   "cell_type": "markdown",
   "metadata": {},
   "source": [
    "What about hackweek only?"
   ]
  },
  {
   "cell_type": "code",
   "execution_count": 4,
   "metadata": {},
   "outputs": [
    {
     "data": {
      "text/plain": [
       "(array([15., 21., 68., 93.,  5.,  0.,  0.,  1.,  2.,  6.]),\n",
       " array([18486.50423611, 18487.14395833, 18487.78368056, 18488.42340278,\n",
       "        18489.063125  , 18489.70284722, 18490.34256944, 18490.98229167,\n",
       "        18491.62201389, 18492.26173611, 18492.90145833]),\n",
       " <BarContainer object of 10 artists>)"
      ]
     },
     "execution_count": 4,
     "metadata": {},
     "output_type": "execute_result"
    },
    {
     "data": {
      "image/png": "[encoded data removed]",
      "text/plain": [
       "<Figure size 1080x720 with 1 Axes>"
      ]
     },
     "metadata": {
      "needs_background": "light"
     },
     "output_type": "display_data"
    }
   ],
   "source": [
    "fig, ax = plt.subplots(figsize=(15,10))\n",
    "ax.hist(df_ohw20.index)"
   ]
  },
  {
   "cell_type": "markdown",
   "metadata": {},
   "source": [
    "What is the distribution of commits amongst participants like?"
   ]
  },
  {
   "cell_type": "code",
   "execution_count": 7,
   "metadata": {},
   "outputs": [],
   "source": [
    "from collections import Counter\n",
    "c = Counter(df_ohw20.author)\n",
    "MVP = c.most_common()\n",
    "mvp_names, mvp_nums = [], []\n",
    "for tup in MVP:\n",
    "    mvp_names.append(tup[0])\n",
    "    mvp_nums.append(tup[1])"
   ]
  },
  {
   "cell_type": "code",
   "execution_count": 8,
   "metadata": {},
   "outputs": [
    {
     "data": {
      "image/png": "[encoded data removed]",
      "text/plain": [
       "<Figure size 1008x576 with 1 Axes>"
      ]
     },
     "metadata": {
      "needs_background": "light"
     },
     "output_type": "display_data"
    }
   ],
   "source": [
    "fig, ax = plt.subplots(figsize=(14,8))\n",
    "ax.bar(mvp_names, mvp_nums)\n",
    "ax.set(xticks=[], ylabel='Number of commits per participant');"
   ]
  }
 ],
 "metadata": {
  "kernelspec": {
   "display_name": "Python 3",
   "language": "python",
   "name": "python3"
  },
  "language_info": {
   "codemirror_mode": {
    "name": "ipython",
    "version": 3
   },
   "file_extension": ".py",
   "mimetype": "text/x-python",
   "name": "python",
   "nbconvert_exporter": "python",
   "pygments_lexer": "ipython3",
   "version": "3.8.2"
  }
 },
 "nbformat": 4,
 "nbformat_minor": 4
}
