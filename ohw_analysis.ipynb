{
 "cells": [
  {
   "cell_type": "markdown",
   "metadata": {},
   "source": [
    "# Basic analysis of OHW2020 Github commits\n",
    "\n",
    "We start by importing the holy trinity of Python"
   ]
  },
  {
   "cell_type": "code",
   "execution_count": 1,
   "metadata": {},
   "outputs": [],
   "source": [
    "import numpy as np\n",
    "import pandas as pd\n",
    "import matplotlib.pyplot as plt"
   ]
  },
  {
   "cell_type": "markdown",
   "metadata": {},
   "source": [
    "We read in the anaonymised data from the csv file and make a second dataframe of only commits to OHW20 repos"
   ]
  },
  {
   "cell_type": "code",
   "execution_count": 2,
   "metadata": {},
   "outputs": [
    {
     "data": {
      "text/html": [
       "<div>\n",
       "<style scoped>\n",
       "    .dataframe tbody tr th:only-of-type {\n",
       "        vertical-align: middle;\n",
       "    }\n",
       "\n",
       "    .dataframe tbody tr th {\n",
       "        vertical-align: top;\n",
       "    }\n",
       "\n",
       "    .dataframe thead th {\n",
       "        text-align: right;\n",
       "    }\n",
       "</style>\n",
       "<table border=\"1\" class=\"dataframe\">\n",
       "  <thead>\n",
       "    <tr style=\"text-align: right;\">\n",
       "      <th></th>\n",
       "      <th>author</th>\n",
       "      <th>message</th>\n",
       "      <th>ohw20_repo</th>\n",
       "    </tr>\n",
       "    <tr>\n",
       "      <th>datetime</th>\n",
       "      <th></th>\n",
       "      <th></th>\n",
       "      <th></th>\n",
       "    </tr>\n",
       "  </thead>\n",
       "  <tbody>\n",
       "    <tr>\n",
       "      <th>2020-08-20 15:08:09+00:00</th>\n",
       "      <td>participant-21</td>\n",
       "      <td>Merge pull request #1 from cbirdferrer/patch-1...</td>\n",
       "      <td>False</td>\n",
       "    </tr>\n",
       "    <tr>\n",
       "      <th>2020-08-17 16:24:17+00:00</th>\n",
       "      <td>participant-21</td>\n",
       "      <td>deleting old presentation_figs file</td>\n",
       "      <td>True</td>\n",
       "    </tr>\n",
       "    <tr>\n",
       "      <th>2020-08-14 20:00:38+00:00</th>\n",
       "      <td>participant-21</td>\n",
       "      <td>adding improvements to interpolate notebook to...</td>\n",
       "      <td>True</td>\n",
       "    </tr>\n",
       "    <tr>\n",
       "      <th>2020-08-14 20:00:38+00:00</th>\n",
       "      <td>participant-21</td>\n",
       "      <td>merging changes</td>\n",
       "      <td>True</td>\n",
       "    </tr>\n",
       "    <tr>\n",
       "      <th>2020-08-14 20:00:38+00:00</th>\n",
       "      <td>participant-21</td>\n",
       "      <td>merging interpolate notebook</td>\n",
       "      <td>True</td>\n",
       "    </tr>\n",
       "    <tr>\n",
       "      <th>...</th>\n",
       "      <td>...</td>\n",
       "      <td>...</td>\n",
       "      <td>...</td>\n",
       "    </tr>\n",
       "    <tr>\n",
       "      <th>2020-08-07 15:58:21+00:00</th>\n",
       "      <td>participant-33</td>\n",
       "      <td>change read.md</td>\n",
       "      <td>False</td>\n",
       "    </tr>\n",
       "    <tr>\n",
       "      <th>2020-08-06 22:26:24+00:00</th>\n",
       "      <td>participant-33</td>\n",
       "      <td>change new2.md and create new.md</td>\n",
       "      <td>False</td>\n",
       "    </tr>\n",
       "    <tr>\n",
       "      <th>2020-08-06 22:25:02+00:00</th>\n",
       "      <td>participant-33</td>\n",
       "      <td>changes in new.md and new2.md</td>\n",
       "      <td>False</td>\n",
       "    </tr>\n",
       "    <tr>\n",
       "      <th>2020-08-06 22:20:59+00:00</th>\n",
       "      <td>participant-33</td>\n",
       "      <td>edit readme and new, create new2.md</td>\n",
       "      <td>False</td>\n",
       "    </tr>\n",
       "    <tr>\n",
       "      <th>2020-08-06 22:13:07+00:00</th>\n",
       "      <td>participant-33</td>\n",
       "      <td>edit readme and add new.md</td>\n",
       "      <td>False</td>\n",
       "    </tr>\n",
       "  </tbody>\n",
       "</table>\n",
       "<p>1512 rows × 3 columns</p>\n",
       "</div>"
      ],
      "text/plain": [
       "                                   author  \\\n",
       "datetime                                    \n",
       "2020-08-20 15:08:09+00:00  participant-21   \n",
       "2020-08-17 16:24:17+00:00  participant-21   \n",
       "2020-08-14 20:00:38+00:00  participant-21   \n",
       "2020-08-14 20:00:38+00:00  participant-21   \n",
       "2020-08-14 20:00:38+00:00  participant-21   \n",
       "...                                   ...   \n",
       "2020-08-07 15:58:21+00:00  participant-33   \n",
       "2020-08-06 22:26:24+00:00  participant-33   \n",
       "2020-08-06 22:25:02+00:00  participant-33   \n",
       "2020-08-06 22:20:59+00:00  participant-33   \n",
       "2020-08-06 22:13:07+00:00  participant-33   \n",
       "\n",
       "                                                                     message  \\\n",
       "datetime                                                                       \n",
       "2020-08-20 15:08:09+00:00  Merge pull request #1 from cbirdferrer/patch-1...   \n",
       "2020-08-17 16:24:17+00:00                deleting old presentation_figs file   \n",
       "2020-08-14 20:00:38+00:00  adding improvements to interpolate notebook to...   \n",
       "2020-08-14 20:00:38+00:00                                    merging changes   \n",
       "2020-08-14 20:00:38+00:00                       merging interpolate notebook   \n",
       "...                                                                      ...   \n",
       "2020-08-07 15:58:21+00:00                                     change read.md   \n",
       "2020-08-06 22:26:24+00:00                   change new2.md and create new.md   \n",
       "2020-08-06 22:25:02+00:00                      changes in new.md and new2.md   \n",
       "2020-08-06 22:20:59+00:00                edit readme and new, create new2.md   \n",
       "2020-08-06 22:13:07+00:00                         edit readme and add new.md   \n",
       "\n",
       "                           ohw20_repo  \n",
       "datetime                               \n",
       "2020-08-20 15:08:09+00:00       False  \n",
       "2020-08-17 16:24:17+00:00        True  \n",
       "2020-08-14 20:00:38+00:00        True  \n",
       "2020-08-14 20:00:38+00:00        True  \n",
       "2020-08-14 20:00:38+00:00        True  \n",
       "...                               ...  \n",
       "2020-08-07 15:58:21+00:00       False  \n",
       "2020-08-06 22:26:24+00:00       False  \n",
       "2020-08-06 22:25:02+00:00       False  \n",
       "2020-08-06 22:20:59+00:00       False  \n",
       "2020-08-06 22:13:07+00:00       False  \n",
       "\n",
       "[1512 rows x 3 columns]"
      ]
     },
     "execution_count": 2,
     "metadata": {},
     "output_type": "execute_result"
    }
   ],
   "source": [
    "df = pd.read_csv('ohw_anonymised.csv', index_col='datetime', parse_dates=True)\n",
    "df_ohw20 = df[df.ohw20_repo]\n",
    "df"
   ]
  },
  {
   "cell_type": "markdown",
   "metadata": {},
   "source": [
    "### Commits in time"
   ]
  },
  {
   "cell_type": "code",
   "execution_count": 3,
   "metadata": {},
   "outputs": [],
   "source": [
    "weekly_commits = df.author.groupby(df.index.week).count()\n",
    "df_hw = df[df.index.week==33]\n",
    "hw_commits = df_hw.author.groupby(df_hw.index.week).count()"
   ]
  },
  {
   "cell_type": "code",
   "execution_count": 4,
   "metadata": {},
   "outputs": [
    {
     "data": {
      "text/plain": [
       "[Text(0.5, 0, 'week of 2020'),\n",
       " Text(0, 0.5, 'number of commits by OHW participants')]"
      ]
     },
     "execution_count": 4,
     "metadata": {},
     "output_type": "execute_result"
    },
    {
     "data": {
      "image/png": "[encoded data removed]",
      "text/plain": [
       "<Figure size 1080x720 with 1 Axes>"
      ]
     },
     "metadata": {
      "needs_background": "light"
     },
     "output_type": "display_data"
    }
   ],
   "source": [
    "fig, ax = plt.subplots(figsize=(15,10))\n",
    "ax.bar(weekly_commits.index, weekly_commits.values)\n",
    "ax.bar(hw_commits.index, hw_commits.values)\n",
    "ax.set(xlabel='week of 2020', ylabel='number of commits by OHW participants')"
   ]
  },
  {
   "cell_type": "markdown",
   "metadata": {},
   "source": [
    "### How about zooming in on hackweek?"
   ]
  },
  {
   "cell_type": "code",
   "execution_count": 5,
   "metadata": {},
   "outputs": [
    {
     "data": {
      "image/png": "[encoded data removed]",
      "text/plain": [
       "<Figure size 864x576 with 1 Axes>"
      ]
     },
     "metadata": {
      "needs_background": "light"
     },
     "output_type": "display_data"
    }
   ],
   "source": [
    "daily_commits = df_hw.author.groupby(df_hw.index.day).count()\n",
    "fig, ax = plt.subplots(figsize=(12,8))\n",
    "ax.bar(daily_commits.index, daily_commits.values)\n",
    "ax.set(xlabel='day of hackweek', ylabel='number of commits by OHW participants')\n",
    "ax.set_xticks(np.arange(10,17))\n",
    "ax.set_xticklabels(['Mon', 'Tue', 'Wed', 'Thu', 'Fri', 'Sat', 'Sun']);"
   ]
  },
  {
   "cell_type": "markdown",
   "metadata": {},
   "source": [
    "### Zoom closer?"
   ]
  },
  {
   "cell_type": "code",
   "execution_count": 6,
   "metadata": {},
   "outputs": [
    {
     "data": {
      "text/plain": [
       "[Text(0.5, 0, 'Hour of Friday (UTC)'),\n",
       " Text(0, 0.5, 'number of commits by OHW participants')]"
      ]
     },
     "execution_count": 6,
     "metadata": {},
     "output_type": "execute_result"
    },
    {
     "data": {
      "image/png": "[encoded data removed]",
      "text/plain": [
       "<Figure size 864x576 with 1 Axes>"
      ]
     },
     "metadata": {
      "needs_background": "light"
     },
     "output_type": "display_data"
    }
   ],
   "source": [
    "df_friday = df_hw[df_hw.index.day==14]\n",
    "\n",
    "friday_commits = df_friday.author.groupby(df_friday.index.hour).count()\n",
    "fig, ax = plt.subplots(figsize=(12,8))\n",
    "ax.bar(friday_commits.index, friday_commits.values)\n",
    "ax.set(xlabel='Hour of Friday (UTC)', ylabel='number of commits by OHW participants')\n"
   ]
  },
  {
   "cell_type": "markdown",
   "metadata": {},
   "source": [
    "### How many unique participants wrote commits during these weeks?"
   ]
  },
  {
   "cell_type": "code",
   "execution_count": 7,
   "metadata": {},
   "outputs": [
    {
     "data": {
      "text/plain": [
       "Int64Index([23, 24, 25, 26, 27, 28, 29, 30, 31, 32, 33, 34, 35, 36], dtype='int64', name='datetime')"
      ]
     },
     "execution_count": 7,
     "metadata": {},
     "output_type": "execute_result"
    }
   ],
   "source": [
    "weekly_commits.index"
   ]
  },
  {
   "cell_type": "code",
   "execution_count": 8,
   "metadata": {},
   "outputs": [],
   "source": [
    "# severley unpythonic but it works\n",
    "week_commits = []\n",
    "unique_users = []\n",
    "for week in weekly_commits.index:\n",
    "    sub_df = df[df.index.week==week]\n",
    "    unique_users.append(len(sub_df.groupby('author').count()))\n"
   ]
  },
  {
   "cell_type": "code",
   "execution_count": 9,
   "metadata": {},
   "outputs": [
    {
     "data": {
      "text/plain": [
       "[Text(0.5, 0, 'week of 2020'),\n",
       " Text(0, 0.5, 'number of commits by OHW participants')]"
      ]
     },
     "execution_count": 9,
     "metadata": {},
     "output_type": "execute_result"
    },
    {
     "data": {
      "image/png": "[encoded data removed]",
      "text/plain": [
       "<Figure size 1080x720 with 1 Axes>"
      ]
     },
     "metadata": {
      "needs_background": "light"
     },
     "output_type": "display_data"
    }
   ],
   "source": [
    "fig, ax = plt.subplots(figsize=(15,10))\n",
    "ax.bar(weekly_commits.index, unique_users)\n",
    "ax.bar(33, max(unique_users))\n",
    "ax.set(xlabel='week of 2020', ylabel='number of commits by OHW participants')"
   ]
  },
  {
   "cell_type": "markdown",
   "metadata": {},
   "source": [
    "### What is the distribution of commits amongst participants like?"
   ]
  },
  {
   "cell_type": "code",
   "execution_count": 10,
   "metadata": {},
   "outputs": [
    {
     "data": {
      "text/html": [
       "<div>\n",
       "<style scoped>\n",
       "    .dataframe tbody tr th:only-of-type {\n",
       "        vertical-align: middle;\n",
       "    }\n",
       "\n",
       "    .dataframe tbody tr th {\n",
       "        vertical-align: top;\n",
       "    }\n",
       "\n",
       "    .dataframe thead th {\n",
       "        text-align: right;\n",
       "    }\n",
       "</style>\n",
       "<table border=\"1\" class=\"dataframe\">\n",
       "  <thead>\n",
       "    <tr style=\"text-align: right;\">\n",
       "      <th></th>\n",
       "      <th>author</th>\n",
       "      <th>message</th>\n",
       "      <th>ohw20_repo</th>\n",
       "    </tr>\n",
       "    <tr>\n",
       "      <th>datetime</th>\n",
       "      <th></th>\n",
       "      <th></th>\n",
       "      <th></th>\n",
       "    </tr>\n",
       "  </thead>\n",
       "  <tbody>\n",
       "    <tr>\n",
       "      <th>2020-08-17 16:24:17+00:00</th>\n",
       "      <td>participant-21</td>\n",
       "      <td>deleting old presentation_figs file</td>\n",
       "      <td>True</td>\n",
       "    </tr>\n",
       "    <tr>\n",
       "      <th>2020-08-14 20:00:38+00:00</th>\n",
       "      <td>participant-21</td>\n",
       "      <td>adding improvements to interpolate notebook to...</td>\n",
       "      <td>True</td>\n",
       "    </tr>\n",
       "    <tr>\n",
       "      <th>2020-08-14 20:00:38+00:00</th>\n",
       "      <td>participant-21</td>\n",
       "      <td>merging changes</td>\n",
       "      <td>True</td>\n",
       "    </tr>\n",
       "    <tr>\n",
       "      <th>2020-08-14 20:00:38+00:00</th>\n",
       "      <td>participant-21</td>\n",
       "      <td>merging interpolate notebook</td>\n",
       "      <td>True</td>\n",
       "    </tr>\n",
       "    <tr>\n",
       "      <th>2020-08-12 22:51:52+00:00</th>\n",
       "      <td>participant-21</td>\n",
       "      <td>adding interpolation code based on pykrige wit...</td>\n",
       "      <td>True</td>\n",
       "    </tr>\n",
       "    <tr>\n",
       "      <th>...</th>\n",
       "      <td>...</td>\n",
       "      <td>...</td>\n",
       "      <td>...</td>\n",
       "    </tr>\n",
       "    <tr>\n",
       "      <th>2020-08-18 20:56:15+00:00</th>\n",
       "      <td>participant-29</td>\n",
       "      <td>Adding plotting examples from presentation wit...</td>\n",
       "      <td>True</td>\n",
       "    </tr>\n",
       "    <tr>\n",
       "      <th>2020-08-18 20:56:15+00:00</th>\n",
       "      <td>participant-29</td>\n",
       "      <td>Adding plots from presentation with comments</td>\n",
       "      <td>True</td>\n",
       "    </tr>\n",
       "    <tr>\n",
       "      <th>2020-08-17 20:17:09+00:00</th>\n",
       "      <td>participant-29</td>\n",
       "      <td>Fixing syntax error 'else if' to 'elif' in get...</td>\n",
       "      <td>True</td>\n",
       "    </tr>\n",
       "    <tr>\n",
       "      <th>2020-08-14 16:58:01+00:00</th>\n",
       "      <td>participant-29</td>\n",
       "      <td>Reducing cloud tutorial to only ERA5 examples</td>\n",
       "      <td>True</td>\n",
       "    </tr>\n",
       "    <tr>\n",
       "      <th>2020-08-14 16:58:01+00:00</th>\n",
       "      <td>participant-29</td>\n",
       "      <td>Reducing cloud tutorial to only geostationary ...</td>\n",
       "      <td>True</td>\n",
       "    </tr>\n",
       "  </tbody>\n",
       "</table>\n",
       "<p>229 rows × 3 columns</p>\n",
       "</div>"
      ],
      "text/plain": [
       "                                   author  \\\n",
       "datetime                                    \n",
       "2020-08-17 16:24:17+00:00  participant-21   \n",
       "2020-08-14 20:00:38+00:00  participant-21   \n",
       "2020-08-14 20:00:38+00:00  participant-21   \n",
       "2020-08-14 20:00:38+00:00  participant-21   \n",
       "2020-08-12 22:51:52+00:00  participant-21   \n",
       "...                                   ...   \n",
       "2020-08-18 20:56:15+00:00  participant-29   \n",
       "2020-08-18 20:56:15+00:00  participant-29   \n",
       "2020-08-17 20:17:09+00:00  participant-29   \n",
       "2020-08-14 16:58:01+00:00  participant-29   \n",
       "2020-08-14 16:58:01+00:00  participant-29   \n",
       "\n",
       "                                                                     message  \\\n",
       "datetime                                                                       \n",
       "2020-08-17 16:24:17+00:00                deleting old presentation_figs file   \n",
       "2020-08-14 20:00:38+00:00  adding improvements to interpolate notebook to...   \n",
       "2020-08-14 20:00:38+00:00                                    merging changes   \n",
       "2020-08-14 20:00:38+00:00                       merging interpolate notebook   \n",
       "2020-08-12 22:51:52+00:00  adding interpolation code based on pykrige wit...   \n",
       "...                                                                      ...   \n",
       "2020-08-18 20:56:15+00:00  Adding plotting examples from presentation wit...   \n",
       "2020-08-18 20:56:15+00:00       Adding plots from presentation with comments   \n",
       "2020-08-17 20:17:09+00:00  Fixing syntax error 'else if' to 'elif' in get...   \n",
       "2020-08-14 16:58:01+00:00      Reducing cloud tutorial to only ERA5 examples   \n",
       "2020-08-14 16:58:01+00:00  Reducing cloud tutorial to only geostationary ...   \n",
       "\n",
       "                           ohw20_repo  \n",
       "datetime                               \n",
       "2020-08-17 16:24:17+00:00        True  \n",
       "2020-08-14 20:00:38+00:00        True  \n",
       "2020-08-14 20:00:38+00:00        True  \n",
       "2020-08-14 20:00:38+00:00        True  \n",
       "2020-08-12 22:51:52+00:00        True  \n",
       "...                               ...  \n",
       "2020-08-18 20:56:15+00:00        True  \n",
       "2020-08-18 20:56:15+00:00        True  \n",
       "2020-08-17 20:17:09+00:00        True  \n",
       "2020-08-14 16:58:01+00:00        True  \n",
       "2020-08-14 16:58:01+00:00        True  \n",
       "\n",
       "[229 rows x 3 columns]"
      ]
     },
     "execution_count": 10,
     "metadata": {},
     "output_type": "execute_result"
    }
   ],
   "source": [
    "df_ohw20"
   ]
  },
  {
   "cell_type": "code",
   "execution_count": 11,
   "metadata": {},
   "outputs": [],
   "source": [
    "from collections import Counter\n",
    "c = Counter(df_ohw20[df_ohw20.ohw20_repo].author)\n",
    "MVP = c.most_common()\n",
    "mvp_names, mvp_nums = [], []\n",
    "for tup in MVP:\n",
    "    mvp_names.append(tup[0])\n",
    "    mvp_nums.append(tup[1])"
   ]
  },
  {
   "cell_type": "code",
   "execution_count": 12,
   "metadata": {},
   "outputs": [
    {
     "data": {
      "image/png": "[encoded data removed]",
      "text/plain": [
       "<Figure size 1008x576 with 1 Axes>"
      ]
     },
     "metadata": {
      "needs_background": "light"
     },
     "output_type": "display_data"
    }
   ],
   "source": [
    "fig, ax = plt.subplots(figsize=(14,8))\n",
    "ax.bar(mvp_names, mvp_nums)\n",
    "ax.set(xticks=[], ylabel='Number of commits per participant');"
   ]
  },
  {
   "cell_type": "code",
   "execution_count": 13,
   "metadata": {},
   "outputs": [
    {
     "data": {
      "image/png": "[encoded data removed]",
      "text/plain": [
       "<Figure size 1008x576 with 1 Axes>"
      ]
     },
     "metadata": {
      "needs_background": "light"
     },
     "output_type": "display_data"
    }
   ],
   "source": [
    "fig, ax = plt.subplots(figsize=(14,8))\n",
    "ax.bar(mvp_names, mvp_nums)\n",
    "ax.set(xticks=[], ylabel='Number of commits per participant');"
   ]
  },
  {
   "cell_type": "code",
   "execution_count": null,
   "metadata": {},
   "outputs": [],
   "source": []
  }
 ],
 "metadata": {
  "kernelspec": {
   "display_name": "Python 3",
   "language": "python",
   "name": "python3"
  },
  "language_info": {
   "codemirror_mode": {
    "name": "ipython",
    "version": 3
   },
   "file_extension": ".py",
   "mimetype": "text/x-python",
   "name": "python",
   "nbconvert_exporter": "python",
   "pygments_lexer": "ipython3",
   "version": "3.8.2"
  }
 },
 "nbformat": 4,
 "nbformat_minor": 4
}
